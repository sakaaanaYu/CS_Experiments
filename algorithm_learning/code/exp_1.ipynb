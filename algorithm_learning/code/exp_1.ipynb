{
 "cells": [
  {
   "cell_type": "markdown",
   "id": "ec77861f",
   "metadata": {},
   "source": [
    "# 实验一\n",
    "\n",
    "## 最大子数组问题\n",
    "\n",
    "分别实现 4.1 节所讲的求最大子数组问题的分治算法 FIND-MAXIMUM-SUBARRAY 和习题 4.1-5 所提示的非递归线性时间算法\n",
    "\n",
    "> **最大子数组**：一个数组中和最大的非空连续子数组。\n",
    "\n",
    "### 1. 分治算法 FIND-MAXIMUM-SUBARRAY\n",
    "\n",
    "求解 A[low, high] 的最大子数组：\n",
    "\n",
    "- 求解思路：\n",
    "    1. 找到 A 的 mid\n",
    "    2. 求解 A[low..mid] 和 A[mid+1..high] 的最大子数组\n",
    "    3. 找到跨越中点的最大子数组\n",
    "    4. 取和最大者\n",
    "- A[low..high] 和任何 A[i..j] 之间的三种情况\n",
    "    - low ≤ i ≤ j ≤ mid\n",
    "    - mid < i ≤ j ≤ high\n",
    "    - low ≤ i ≤ mid < j ≤ high"
   ]
  },
  {
   "cell_type": "code",
   "execution_count": 4,
   "id": "c3730808",
   "metadata": {},
   "outputs": [],
   "source": [
    "import time"
   ]
  },
  {
   "cell_type": "markdown",
   "id": "ed0e144b",
   "metadata": {},
   "source": [
    "**1. 分别实现两个算法的功能函数**\n",
    "\n",
    "- 分治算法"
   ]
  },
  {
   "cell_type": "code",
   "execution_count": 9,
   "id": "a4356273",
   "metadata": {},
   "outputs": [],
   "source": [
    "# 跨越中点的最大子数组\n",
    "def FIND_MAX_CROSSSING_SUBARRAY(A, low, mid, high):\n",
    "    left_sum = float('-inf')\n",
    "    sum = 0\n",
    "    max_left = mid  # 初始化max_left\n",
    "    for i in range(mid, low-1, -1):\n",
    "        sum += A[i]\n",
    "        if sum > left_sum:\n",
    "            left_sum = sum\n",
    "            max_left = i\n",
    "    right_sum = float('-inf')\n",
    "    sum = 0\n",
    "    max_right = mid + 1  # 初始化max_right\n",
    "    for j in range(mid+1, high+1):\n",
    "        sum += A[j]\n",
    "        if sum > right_sum:\n",
    "            right_sum = sum\n",
    "            max_right = j\n",
    "    return (max_left, max_right, left_sum + right_sum)\n",
    "\n",
    "# 找最大子数组\n",
    "def FIND_MAX_SUBARRAY(A, low, high):\n",
    "    if high == low:\n",
    "        return (low, high, A[low])\n",
    "    else:\n",
    "        mid = (low + high) // 2  # 使用整除\n",
    "        (left_low, left_high, left_sum) = FIND_MAX_SUBARRAY(A, low, mid)\n",
    "        (right_low, right_high, right_sum) = FIND_MAX_SUBARRAY(A, mid+1, high)\n",
    "        (cross_low, cross_high, cross_sum) = FIND_MAX_CROSSSING_SUBARRAY(A, low, mid, high)\n",
    "        if left_sum >= right_sum and left_sum >= cross_sum:\n",
    "            return (left_low, left_high, left_sum)\n",
    "        elif right_sum >= left_sum and right_sum >= cross_sum:\n",
    "            return (right_low, right_high, right_sum)\n",
    "        else:\n",
    "            return (cross_low, cross_high, cross_sum)"
   ]
  },
  {
   "cell_type": "markdown",
   "id": "64423575",
   "metadata": {},
   "source": [
    "- 非递归线性时间算法"
   ]
  },
  {
   "cell_type": "code",
   "execution_count": 10,
   "id": "ad1b9969",
   "metadata": {},
   "outputs": [],
   "source": [
    "def FIND_MAX_SUBARRAY_LINEAR(A):\n",
    "    max_sum = float('-inf') \n",
    "    current_sum = 0 \n",
    "    start = 0 \n",
    "    max_start = 0 \n",
    "    max_end = 0 \n",
    "\n",
    "    for i in range(len(A)):\n",
    "        current_sum += A[i]\n",
    "        if current_sum > max_sum:\n",
    "            max_sum = current_sum\n",
    "            max_start = start\n",
    "            max_end = i\n",
    "        if current_sum < 0:\n",
    "            current_sum = 0\n",
    "            start = i + 1\n",
    "\n",
    "    return (max_start, max_end, max_sum)"
   ]
  },
  {
   "cell_type": "markdown",
   "id": "c8ddfa3a",
   "metadata": {},
   "source": [
    "**2. 集成在程序中**"
   ]
  },
  {
   "cell_type": "code",
   "execution_count": 5,
   "id": "ea1f9f2e",
   "metadata": {},
   "outputs": [],
   "source": [
    "def menu():\n",
    "    print(\"请选择要使用的算法：\")\n",
    "    print(\"1. 分治法\")\n",
    "    print(\"2. 线性法\")\n",
    "    print(\"0. 退出\")\n",
    "    choice = input(\"请选择要使用的算法：\")\n",
    "    return choice"
   ]
  },
  {
   "cell_type": "markdown",
   "id": "05221549",
   "metadata": {},
   "source": [
    "**3. 读取文件并输出** "
   ]
  },
  {
   "cell_type": "code",
   "execution_count": 6,
   "id": "2d57d5bd",
   "metadata": {},
   "outputs": [],
   "source": [
    "def read_dataset_from_file(file_path):\n",
    "    with open(file_path, 'r') as file:\n",
    "        data = list(map(int, file.read().strip().split()))\n",
    "    n = data[0]\n",
    "    if n == 0:\n",
    "        return []  # 如果 n 为 0，返回空数组\n",
    "    return data[1:]  # 返回后续的 n 个整数\n",
    "\n",
    "def main_with_menu(file_path):\n",
    "    A = read_dataset_from_file(file_path)\n",
    "    \n",
    "    if not A:\n",
    "        print(\"数据集为空或无效。\")\n",
    "        return\n",
    "\n",
    "    n = len(A)\n",
    "    \n",
    "    while True:\n",
    "        choice = menu()\n",
    "\n",
    "        if choice == '1':\n",
    "            # 使用分治法\n",
    "            start_time = time.time()\n",
    "            low, high, max_sum = FIND_MAX_SUBARRAY(A, 0, n-1)\n",
    "            end_time = time.time()\n",
    "            if n == 0:\n",
    "                print(0)\n",
    "            else:\n",
    "                print(f\"{max_sum} {low} {high} {n}\")\n",
    "\n",
    "        elif choice == '2':\n",
    "            # 使用线性法\n",
    "            start_time = time.time()\n",
    "            low, high, max_sum = FIND_MAX_SUBARRAY_LINEAR(A)\n",
    "            end_time = time.time()\n",
    "            if n == 0:\n",
    "                print(0)\n",
    "            else:\n",
    "                print(f\"{max_sum} {low} {high} {n}\")\n",
    "\n",
    "        elif choice == '0':\n",
    "            print(\"程序已退出。\")\n",
    "            break\n",
    "        \n",
    "        else:\n",
    "            print(\"无效的选择，请重新输入。\")"
   ]
  },
  {
   "cell_type": "code",
   "execution_count": null,
   "id": "b26d74d1",
   "metadata": {},
   "outputs": [],
   "source": [
    "if __name__ == \"__main__\":\n",
    "    main_with_menu(\"C:/Users/LENOVO/OneDrive/Documents/CS_Experiments/algorithm_learning/data/dataset_1.txt\")\n",
    "    main_with_menu(\"C:/Users/LENOVO/OneDrive/Documents/CS_Experiments/algorithm_learning/data/dataset_2.txt\")"
   ]
  }
 ],
 "metadata": {
  "kernelspec": {
   "display_name": "Python 3 (ipykernel)",
   "language": "python",
   "name": "python3"
  },
  "language_info": {
   "codemirror_mode": {
    "name": "ipython",
    "version": 3
   },
   "file_extension": ".py",
   "mimetype": "text/x-python",
   "name": "python",
   "nbconvert_exporter": "python",
   "pygments_lexer": "ipython3",
   "version": "3.11.5"
  }
 },
 "nbformat": 4,
 "nbformat_minor": 5
}
