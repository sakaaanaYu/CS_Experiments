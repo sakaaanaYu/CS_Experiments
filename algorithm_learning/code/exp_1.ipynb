{
 "cells": [
  {
   "cell_type": "markdown",
   "id": "ec77861f",
   "metadata": {},
   "source": [
    "# 实验一\n",
    "\n",
    "## 最大子数组问题\n",
    "\n",
    "分别实现 4.1 节所讲的求最大子数组问题的分治算法 FIND-MAXIMUM-SUBARRAY 和习题 4.1-5 所提示的非递归线性时间算法\n",
    "\n",
    "> **最大子数组**：一个数组中和最大的非空连续子数组。\n",
    "\n",
    "### **1. 分治算法 FIND-MAXIMUM-SUBARRAY**\n",
    "\n",
    "求解 A[low, high] 的最大子数组：\n",
    "\n",
    "- 求解思路：\n",
    "    1. 找到 A 的 mid\n",
    "    2. 求解 A[low..mid] 和 A[mid+1..high] 的最大子数组\n",
    "    3. 找到跨越中点的最大子数组\n",
    "    4. 取和最大者\n",
    "- A[low..high] 和任何 A[i..j] 之间的三种情况\n",
    "    - low ≤ i ≤ j ≤ mid\n",
    "    - mid < i ≤ j ≤ high\n",
    "    - low ≤ i ≤ mid < j ≤ high"
   ]
  },
  {
   "cell_type": "code",
   "execution_count": 4,
   "id": "c3730808",
   "metadata": {},
   "outputs": [],
   "source": [
    "import time"
   ]
  },
  {
   "cell_type": "markdown",
   "id": "ed0e144b",
   "metadata": {},
   "source": [
    "#### **1. 分别实现两个算法的功能函数**\n",
    "\n",
    "- 分治算法"
   ]
  },
  {
   "cell_type": "code",
   "execution_count": 9,
   "id": "a4356273",
   "metadata": {},
   "outputs": [],
   "source": [
    "# 跨越中点的最大子数组\n",
    "def FIND_MAX_CROSSSING_SUBARRAY(A, low, mid, high):\n",
    "    left_sum = float('-inf')\n",
    "    sum = 0\n",
    "    max_left = mid  # 初始化max_left\n",
    "    for i in range(mid, low-1, -1):\n",
    "        sum += A[i]\n",
    "        if sum > left_sum:\n",
    "            left_sum = sum\n",
    "            max_left = i\n",
    "    right_sum = float('-inf')\n",
    "    sum = 0\n",
    "    max_right = mid + 1  # 初始化max_right\n",
    "    for j in range(mid+1, high+1):\n",
    "        sum += A[j]\n",
    "        if sum > right_sum:\n",
    "            right_sum = sum\n",
    "            max_right = j\n",
    "    return (max_left, max_right, left_sum + right_sum)\n",
    "\n",
    "# 找最大子数组\n",
    "def FIND_MAX_SUBARRAY(A, low, high):\n",
    "    if high == low:\n",
    "        return (low, high, A[low])\n",
    "    else:\n",
    "        mid = (low + high) // 2  # 使用整除\n",
    "        (left_low, left_high, left_sum) = FIND_MAX_SUBARRAY(A, low, mid)\n",
    "        (right_low, right_high, right_sum) = FIND_MAX_SUBARRAY(A, mid+1, high)\n",
    "        (cross_low, cross_high, cross_sum) = FIND_MAX_CROSSSING_SUBARRAY(A, low, mid, high)\n",
    "        if left_sum >= right_sum and left_sum >= cross_sum:\n",
    "            return (left_low, left_high, left_sum)\n",
    "        elif right_sum >= left_sum and right_sum >= cross_sum:\n",
    "            return (right_low, right_high, right_sum)\n",
    "        else:\n",
    "            return (cross_low, cross_high, cross_sum)"
   ]
  },
  {
   "cell_type": "markdown",
   "id": "64423575",
   "metadata": {},
   "source": [
    "- 非递归线性时间算法"
   ]
  },
  {
   "cell_type": "code",
   "execution_count": 10,
   "id": "ad1b9969",
   "metadata": {},
   "outputs": [],
   "source": [
    "def FIND_MAX_SUBARRAY_LINEAR(A):\n",
    "    max_sum = float('-inf') \n",
    "    current_sum = 0 \n",
    "    start = 0 \n",
    "    max_start = 0 \n",
    "    max_end = 0 \n",
    "\n",
    "    for i in range(len(A)):\n",
    "        current_sum += A[i]\n",
    "        if current_sum > max_sum:\n",
    "            max_sum = current_sum\n",
    "            max_start = start\n",
    "            max_end = i\n",
    "        if current_sum < 0:\n",
    "            current_sum = 0\n",
    "            start = i + 1\n",
    "\n",
    "    return (max_start, max_end, max_sum)"
   ]
  },
  {
   "cell_type": "markdown",
   "id": "c8ddfa3a",
   "metadata": {},
   "source": [
    "#### **2. 集成在程序中**"
   ]
  },
  {
   "cell_type": "code",
   "execution_count": 11,
   "id": "ea1f9f2e",
   "metadata": {},
   "outputs": [],
   "source": [
    "def menu():\n",
    "    print(\"请选择要使用的算法：\")\n",
    "    print(\"1. 分治法\")\n",
    "    print(\"2. 线性法\")\n",
    "    print(\"0. 退出\")\n",
    "    choice = input(\"请选择要使用的算法：\")\n",
    "    return choice"
   ]
  },
  {
   "cell_type": "markdown",
   "id": "05221549",
   "metadata": {},
   "source": [
    "#### **3. 读取文件、输出** \n",
    "> 对于存在多个最大子数组的情况，先只输出一个结果"
   ]
  },
  {
   "cell_type": "code",
   "execution_count": 12,
   "id": "2d57d5bd",
   "metadata": {},
   "outputs": [],
   "source": [
    "def read_dataset_from_file(file_path):\n",
    "    with open(file_path, 'r') as file:\n",
    "        data = list(map(int, file.read().strip().split()))\n",
    "    n = data[0]\n",
    "    if n == 0:\n",
    "        return []  # 如果 n 为 0，返回空数组\n",
    "    return data[1:]  # 返回后续的 n 个整数\n",
    "\n",
    "def main_with_menu(file_path):\n",
    "    A = read_dataset_from_file(file_path)\n",
    "    \n",
    "    if not A:\n",
    "        print(\"数据集为空或无效。\")\n",
    "        return\n",
    "\n",
    "    n = len(A)\n",
    "    \n",
    "    while True:\n",
    "        choice = menu()\n",
    "\n",
    "        if choice == '1':\n",
    "            # 使用分治法\n",
    "            start_time = time.time()\n",
    "            low, high, max_sum = FIND_MAX_SUBARRAY(A, 0, n-1)\n",
    "            end_time = time.time()\n",
    "            if n == 0:\n",
    "                print(0)\n",
    "            else:\n",
    "                print(f\"{max_sum} {low} {high} {n}\")\n",
    "\n",
    "        elif choice == '2':\n",
    "            # 使用线性法\n",
    "            start_time = time.time()\n",
    "            low, high, max_sum = FIND_MAX_SUBARRAY_LINEAR(A)\n",
    "            end_time = time.time()\n",
    "            if n == 0:\n",
    "                print(0)\n",
    "            else:\n",
    "                print(f\"{max_sum} {low} {high} {n}\")\n",
    "\n",
    "        elif choice == '0':\n",
    "            print(\"程序已退出。\")\n",
    "            break\n",
    "        \n",
    "        else:\n",
    "            print(\"无效的选择，请重新输入。\")"
   ]
  },
  {
   "cell_type": "markdown",
   "id": "be6cd109",
   "metadata": {},
   "source": [
    "#### **4. 测试**\n",
    "> 第一次输出是分治法运行结果，第二次输出是线性法运行结果"
   ]
  },
  {
   "cell_type": "code",
   "execution_count": 13,
   "id": "b26d74d1",
   "metadata": {},
   "outputs": [
    {
     "name": "stdout",
     "output_type": "stream",
     "text": [
      "请选择要使用的算法：\n",
      "1. 分治法\n",
      "2. 线性法\n",
      "0. 退出\n",
      "78 7 26 38\n",
      "请选择要使用的算法：\n",
      "1. 分治法\n",
      "2. 线性法\n",
      "0. 退出\n",
      "78 7 26 38\n",
      "请选择要使用的算法：\n",
      "1. 分治法\n",
      "2. 线性法\n",
      "0. 退出\n",
      "程序已退出。\n"
     ]
    }
   ],
   "source": [
    "data1 = \"./data/dataset_1.txt\"\n",
    "data2 = \"./data/dataset_2.txt\"\n",
    "\n",
    "if __name__ == \"__main__\":\n",
    "    main_with_menu(data1)"
   ]
  },
  {
   "cell_type": "code",
   "execution_count": 14,
   "id": "8091334d",
   "metadata": {},
   "outputs": [
    {
     "name": "stdout",
     "output_type": "stream",
     "text": [
      "请选择要使用的算法：\n",
      "1. 分治法\n",
      "2. 线性法\n",
      "0. 退出\n",
      "476 0 9 10\n",
      "请选择要使用的算法：\n",
      "1. 分治法\n",
      "2. 线性法\n",
      "0. 退出\n",
      "476 0 9 10\n",
      "请选择要使用的算法：\n",
      "1. 分治法\n",
      "2. 线性法\n",
      "0. 退出\n",
      "程序已退出。\n"
     ]
    }
   ],
   "source": [
    "if __name__ == \"__main__\":\n",
    "    main_with_menu(data2)"
   ]
  },
  {
   "cell_type": "markdown",
   "id": "221d2679",
   "metadata": {},
   "source": [
    "#### **5. 改进**\n",
    "> 对于有多个最大子数组的情况，依次输出多个"
   ]
  },
  {
   "cell_type": "markdown",
   "id": "6eff4949",
   "metadata": {},
   "source": [
    "- 分治法"
   ]
  },
  {
   "cell_type": "code",
   "execution_count": 35,
   "id": "078687f4",
   "metadata": {},
   "outputs": [],
   "source": [
    "def FIND_MAX_CROSSSING_SUBARRAY_NEW(A, low, mid, high):\n",
    "    # 向左扫描\n",
    "    left_sum = float('-inf')\n",
    "    sum = 0\n",
    "    left_sums = []\n",
    "    \n",
    "    for i in range(mid, low-1, -1):\n",
    "        sum += A[i]\n",
    "        if sum > left_sum:\n",
    "            left_sum = sum\n",
    "            left_sums = [(i, sum)]\n",
    "        elif sum == left_sum:\n",
    "            left_sums.append((i, sum))\n",
    "    \n",
    "    # 向右扫描\n",
    "    right_sum = float('-inf')\n",
    "    sum = 0\n",
    "    right_sums = []\n",
    "    \n",
    "    for j in range(mid+1, high+1):\n",
    "        sum += A[j]\n",
    "        if sum > right_sum:\n",
    "            right_sum = sum\n",
    "            right_sums = [(j, sum)]\n",
    "        elif sum == right_sum:\n",
    "            right_sums.append((j, sum))\n",
    "    \n",
    "    # 找出所有可能的组合\n",
    "    results = []\n",
    "    max_cross_sum = float('-inf')\n",
    "    \n",
    "    # 计算所有可能的组合和值\n",
    "    for left_idx, left_val in left_sums:\n",
    "        for right_idx, right_val in right_sums:\n",
    "            cross_sum = left_val + right_val\n",
    "            if cross_sum > max_cross_sum:\n",
    "                max_cross_sum = cross_sum\n",
    "                results = [(left_idx, right_idx, cross_sum)]\n",
    "            elif cross_sum == max_cross_sum:\n",
    "                results.append((left_idx, right_idx, cross_sum))\n",
    "    \n",
    "    return results\n",
    "\n",
    "def FIND_MAX_SUBARRAY_NEW(A, low, high):\n",
    "    if high == low:\n",
    "        return [(low, high, A[low])]  # 返回列表而不是元组\n",
    "    \n",
    "    mid = (low + high) // 2\n",
    "    left_results = FIND_MAX_SUBARRAY_NEW(A, low, mid)\n",
    "    right_results = FIND_MAX_SUBARRAY_NEW(A, mid+1, high)\n",
    "    cross_results = FIND_MAX_CROSSSING_SUBARRAY_NEW(A, low, mid, high)\n",
    "    \n",
    "    # 合并所有结果\n",
    "    all_results = left_results + right_results + cross_results\n",
    "    \n",
    "    # 找出最大和值\n",
    "    max_sum = max(result[2] for result in all_results)\n",
    "    \n",
    "    # 返回所有和值等于最大和值的结果\n",
    "    return [result for result in all_results if result[2] == max_sum]"
   ]
  },
  {
   "cell_type": "markdown",
   "id": "7dd08ad8",
   "metadata": {},
   "source": [
    "- 线性法"
   ]
  },
  {
   "cell_type": "code",
   "execution_count": 36,
   "id": "dac2e89e",
   "metadata": {},
   "outputs": [],
   "source": [
    "def FIND_MAX_SUBARRAY_LINEAR_NEW(A):\n",
    "    max_sum = float('-inf')\n",
    "    current_sum = 0\n",
    "    start = 0\n",
    "    results = []  # 存储所有最大子数组\n",
    "    \n",
    "    for i in range(len(A)):\n",
    "        current_sum += A[i]\n",
    "        if current_sum > max_sum:\n",
    "            max_sum = current_sum\n",
    "            results = [(start, i, current_sum)]  # 重置为新的最大值\n",
    "        elif current_sum == max_sum:\n",
    "            results.append((start, i, current_sum))  # 添加相同和值的结果\n",
    "        if current_sum < 0:\n",
    "            current_sum = 0\n",
    "            start = i + 1\n",
    "    \n",
    "    return results"
   ]
  },
  {
   "cell_type": "markdown",
   "id": "4732a4de",
   "metadata": {},
   "source": [
    "\n",
    "新的主函数\n",
    "> 可分行输出多个最大子数组"
   ]
  },
  {
   "cell_type": "code",
   "execution_count": 39,
   "id": "32f83366",
   "metadata": {},
   "outputs": [],
   "source": [
    "def main_with_menu_new(file_path):\n",
    "    A = read_dataset_from_file(file_path)\n",
    "    \n",
    "    if not A:\n",
    "        print(\"数据集为空或无效。\")\n",
    "        return\n",
    "\n",
    "    n = len(A)\n",
    "    \n",
    "    while True:\n",
    "        choice = menu()\n",
    "\n",
    "        if choice == '1':\n",
    "            # 使用分治法\n",
    "            start_time = time.time()\n",
    "            results = FIND_MAX_SUBARRAY_NEW(A, 0, n-1)\n",
    "            end_time = time.time()\n",
    "            if n == 0:\n",
    "                print(0)\n",
    "            else:\n",
    "                print(f\"找到 {len(results)} 个最大子数组:\")\n",
    "                # 遍历并输出所有最大子数组\n",
    "                for result in results:\n",
    "                    low, high, max_sum = result\n",
    "                    print(f\"{max_sum} {low} {high} {n}\")\n",
    "\n",
    "        elif choice == '2':\n",
    "            # 使用线性法\n",
    "            start_time = time.time()\n",
    "            results = FIND_MAX_SUBARRAY_LINEAR_NEW(A)\n",
    "            end_time = time.time()\n",
    "            if n == 0:\n",
    "                print(0)\n",
    "            else:\n",
    "                print(f\"找到 {len(results)} 个最大子数组:\")\n",
    "                # 遍历并输出所有最大子数组\n",
    "                for result in results:\n",
    "                    low, high, max_sum = result\n",
    "                    print(f\"{max_sum} {low} {high} {n}\")\n",
    "\n",
    "        elif choice == '0':\n",
    "            print(\"程序已退出。\")\n",
    "            break\n",
    "        \n",
    "        else:\n",
    "            print(\"无效的选择，请重新输入。\")"
   ]
  },
  {
   "cell_type": "markdown",
   "id": "7b605525",
   "metadata": {},
   "source": [
    "测试\n",
    "> 第一次输出是分治法，第二次输出是线性法"
   ]
  },
  {
   "cell_type": "code",
   "execution_count": 40,
   "id": "80b8738f",
   "metadata": {},
   "outputs": [
    {
     "name": "stdout",
     "output_type": "stream",
     "text": [
      "请选择要使用的算法：\n",
      "1. 分治法\n",
      "2. 线性法\n",
      "0. 退出\n",
      "找到 2 个最大子数组:\n",
      "3 0 1 5\n",
      "3 3 4 5\n",
      "请选择要使用的算法：\n",
      "1. 分治法\n",
      "2. 线性法\n",
      "0. 退出\n",
      "找到 2 个最大子数组:\n",
      "3 0 1 5\n",
      "3 3 4 5\n",
      "请选择要使用的算法：\n",
      "1. 分治法\n",
      "2. 线性法\n",
      "0. 退出\n",
      "程序已退出。\n"
     ]
    }
   ],
   "source": [
    "data3 = \"./data/dataset_3_for_new.txt\"\n",
    "\n",
    "if __name__ == \"__main__\":\n",
    "    main_with_menu_new(data3)"
   ]
  },
  {
   "cell_type": "markdown",
   "id": "3cf19ddf",
   "metadata": {},
   "source": [
    "#### **6. 时间对比**"
   ]
  },
  {
   "cell_type": "code",
   "execution_count": 45,
   "id": "5735d7ff",
   "metadata": {},
   "outputs": [],
   "source": [
    "def menu_with_time():\n",
    "    print(\"\\n请选择要使用的算法：\")\n",
    "    print(\"1. 分治法\")\n",
    "    print(\"2. 线性法\")\n",
    "    print(\"3. 对比两种算法\")\n",
    "    print(\"0. 退出\")\n",
    "    choice = input(\"请选择要使用的算法：\")\n",
    "    return choice"
   ]
  },
  {
   "cell_type": "code",
   "execution_count": 52,
   "id": "90011265",
   "metadata": {},
   "outputs": [],
   "source": [
    "def main_with_menu_new_with_time(file_path):\n",
    "    A = read_dataset_from_file(file_path)\n",
    "    \n",
    "    if not A:\n",
    "        print(\"数据集为空或无效。\")\n",
    "        return\n",
    "\n",
    "    n = len(A)\n",
    "    \n",
    "    while True:\n",
    "        choice = menu_with_time()\n",
    "\n",
    "        if choice == '1':\n",
    "            # 使用分治法\n",
    "            start_time = time.time()\n",
    "            results = FIND_MAX_SUBARRAY_NEW(A, 0, n-1)\n",
    "            end_time = time.time()\n",
    "            divide_time = end_time - start_time\n",
    "            if n == 0:\n",
    "                print(0)\n",
    "            else:\n",
    "                print(f\"找到 {len(results)} 个最大子数组:\")\n",
    "                # 遍历并输出所有最大子数组\n",
    "                for result in results:\n",
    "                    low, high, max_sum = result\n",
    "                    print(f\"{max_sum} {low} {high} {n}\")\n",
    "\n",
    "        elif choice == '2':\n",
    "            # 使用线性法\n",
    "            start_time = time.time()\n",
    "            results = FIND_MAX_SUBARRAY_LINEAR_NEW(A)\n",
    "            end_time = time.time()\n",
    "            if n == 0:\n",
    "                print(0)\n",
    "            else:\n",
    "                print(f\"找到 {len(results)} 个最大子数组:\")\n",
    "                # 遍历并输出所有最大子数组\n",
    "                for result in results:\n",
    "                    low, high, max_sum = result\n",
    "                    print(f\"{max_sum} {low} {high} {n}\")\n",
    "\n",
    "        elif choice == '3':\n",
    "            # 对比两种算法\n",
    "            print(\"\\n开始算法性能对比...\")\n",
    "            \n",
    "            # 测试分治法\n",
    "            start_time = time.time()\n",
    "            divide_results = FIND_MAX_SUBARRAY_NEW(A, 0, n-1)\n",
    "            end_time = time.time()\n",
    "            divide_time = end_time - start_time\n",
    "            \n",
    "            # 测试线性法\n",
    "            start_time = time.time()\n",
    "            linear_results = FIND_MAX_SUBARRAY_LINEAR_NEW(A)\n",
    "            end_time = time.time()\n",
    "            linear_time = end_time - start_time\n",
    "            \n",
    "            # 输出对比结果\n",
    "            print(f\"\\n数据集大小: {n}\")\n",
    "            print(f\"分治法执行时间: {divide_time:.6f} 秒\")\n",
    "            print(f\"线性法执行时间: {linear_time:.6f} 秒\")\n",
    "            print(f\"时间差异: {abs(divide_time - linear_time):.6f} 秒\")\n",
    "            if linear_time < 1e-6:  # 如果线性法执行时间小于1微秒\n",
    "                print(\"线性法执行时间过短，无法计算准确的时间比例\")\n",
    "            else:\n",
    "                print(f\"分治法/线性法时间比: {divide_time/linear_time:.2f}倍\")\n",
    "\n",
    "        elif choice == '0':\n",
    "            print(\"程序已退出。\")\n",
    "            break\n",
    "        \n",
    "        else:\n",
    "            print(\"无效的选择，请重新输入。\")"
   ]
  },
  {
   "cell_type": "code",
   "execution_count": 53,
   "id": "f9aead9d",
   "metadata": {},
   "outputs": [
    {
     "name": "stdout",
     "output_type": "stream",
     "text": [
      "\n",
      "请选择要使用的算法：\n",
      "1. 分治法\n",
      "2. 线性法\n",
      "3. 对比两种算法\n",
      "0. 退出\n",
      "\n",
      "开始算法性能对比...\n",
      "\n",
      "数据集大小: 1000\n",
      "分治法执行时间: 0.007381 秒\n",
      "线性法执行时间: 0.000000 秒\n",
      "时间差异: 0.007381 秒\n",
      "线性法执行时间过短，无法计算准确的时间比例\n",
      "\n",
      "请选择要使用的算法：\n",
      "1. 分治法\n",
      "2. 线性法\n",
      "3. 对比两种算法\n",
      "0. 退出\n",
      "程序已退出。\n"
     ]
    }
   ],
   "source": [
    "data4 = \"./data/dataset_4_for_time.txt\"\n",
    "\n",
    "if __name__ == \"__main__\":\n",
    "    main_with_menu_new_with_time(data4)"
   ]
  },
  {
   "cell_type": "markdown",
   "id": "5aee9fe3",
   "metadata": {},
   "source": [
    "线性法的计算时间明显优于分治法。"
   ]
  },
  {
   "cell_type": "code",
   "execution_count": null,
   "id": "1249db3c",
   "metadata": {},
   "outputs": [],
   "source": []
  }
 ],
 "metadata": {
  "kernelspec": {
   "display_name": "Python 3 (ipykernel)",
   "language": "python",
   "name": "python3"
  }
 },
 "nbformat": 4,
 "nbformat_minor": 5
}
