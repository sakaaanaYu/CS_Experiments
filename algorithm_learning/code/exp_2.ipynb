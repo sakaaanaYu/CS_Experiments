{
 "cells": [
  {
   "cell_type": "markdown",
   "metadata": {},
   "source": [
    "# 实验二\n",
    "## N皇后问题\n",
    "- 在国际象棋棋盘上，皇后可以攻击**同行、同列、同一斜线**上的棋子\n",
    "- 在 n×n 的棋盘上放置彼此不受攻击的 n 个皇后，该如何放置？\n",
    "\n",
    "**解题思路** \n",
    "1. 先放行：使用一维数组`row`对每一行皇后的存放位置进行保存；\n",
    "2. 再排除列：用一维数组`col`保存每一列皇后的摆放情况，`col[i] = true`表示第i列已然放置皇后，`col[i] = false`表示第i列暂未放置皇后。\n",
    "3. 不能处于同一对角线：两皇后坐标分别为(i, j)和(l, k)，有`abs(i-l) != abs(j-k)`。"
   ]
  },
  {
   "cell_type": "markdown",
   "metadata": {},
   "source": [
    "**代码实现**"
   ]
  },
  {
   "cell_type": "code",
   "execution_count": 34,
   "metadata": {},
   "outputs": [],
   "source": [
    "# 算法核心函数\n",
    "def dfs(n, row, res, results):\n",
    "    if row == n: # 已放置完毕，退出循环\n",
    "        print(res)\n",
    "        results.append(res.copy())\n",
    "        return\n",
    "    \n",
    "    for col in range(n): # 对每一行来说，都需要从头开始遍历列，确保放置的内容不与任何列重合\n",
    "        if judge_col_and_diagonal(res, row, col):\n",
    "            res[row] = col # 通过检测，放置结果进 res\n",
    "            dfs(n, row + 1, res, results) # 上一个放置成功了就需要从 n = 0 开始遍历下一行，否则接着遍历就行\n",
    "            res[row] = 0 # 有放置未成功，则初始化该行结果，继续大循环\n",
    "\n",
    "def judge_col_and_diagonal(res, row, col):\n",
    "    for i in range(row):\n",
    "        if res[i] == col or abs(res[i] - col) == abs(i - row):\n",
    "            return False\n",
    "    return True"
   ]
  },
  {
   "cell_type": "code",
   "execution_count": 25,
   "metadata": {},
   "outputs": [],
   "source": [
    "# 输出实现\n",
    "def draw_chessboard(n, res):\n",
    "    for i in range(n): # 绘制每一行\n",
    "        for j in range(n): # 绘制行内每一列\n",
    "            if res[i] == j:\n",
    "                print('1', end = ' ')\n",
    "            else:\n",
    "                print('0', end = ' ')\n",
    "        print()"
   ]
  },
  {
   "cell_type": "markdown",
   "metadata": {},
   "source": [
    "**测试** \n",
    "1. n = 4"
   ]
  },
  {
   "cell_type": "code",
   "execution_count": 35,
   "metadata": {},
   "outputs": [
    {
     "name": "stdout",
     "output_type": "stream",
     "text": [
      "[1, 3, 0, 2]\n",
      "[2, 0, 3, 1]\n",
      "0 1 0 0 \n",
      "0 0 0 1 \n",
      "1 0 0 0 \n",
      "0 0 1 0 \n",
      "\n",
      "\n",
      "0 0 1 0 \n",
      "1 0 0 0 \n",
      "0 0 0 1 \n",
      "0 1 0 0 \n",
      "\n",
      "\n"
     ]
    }
   ],
   "source": [
    "n = int(input(\"请输入皇后数量：\"))\n",
    "\n",
    "if __name__ == \"__main__\":\n",
    "    # 初始化 res 和 row\n",
    "    res = [0] * n\n",
    "    row = 0\n",
    "\n",
    "    results = []\n",
    "    dfs(n, row, res, results)\n",
    "\n",
    "    for res in results:\n",
    "        draw_chessboard(n, res)\n",
    "        print('\\n')"
   ]
  },
  {
   "cell_type": "markdown",
   "metadata": {},
   "source": [
    "2. n = 5"
   ]
  },
  {
   "cell_type": "code",
   "execution_count": 40,
   "metadata": {},
   "outputs": [
    {
     "name": "stdout",
     "output_type": "stream",
     "text": [
      "[0, 2, 4, 1, 3]\n",
      "[0, 3, 1, 4, 2]\n",
      "[1, 3, 0, 2, 4]\n",
      "[1, 4, 2, 0, 3]\n",
      "[2, 0, 3, 1, 4]\n",
      "[2, 4, 1, 3, 0]\n",
      "[3, 0, 2, 4, 1]\n",
      "[3, 1, 4, 2, 0]\n",
      "[4, 1, 3, 0, 2]\n",
      "[4, 2, 0, 3, 1]\n",
      "1 0 0 0 0 \n",
      "0 0 1 0 0 \n",
      "0 0 0 0 1 \n",
      "0 1 0 0 0 \n",
      "0 0 0 1 0 \n",
      "\n",
      "\n",
      "1 0 0 0 0 \n",
      "0 0 0 1 0 \n",
      "0 1 0 0 0 \n",
      "0 0 0 0 1 \n",
      "0 0 1 0 0 \n",
      "\n",
      "\n",
      "0 1 0 0 0 \n",
      "0 0 0 1 0 \n",
      "1 0 0 0 0 \n",
      "0 0 1 0 0 \n",
      "0 0 0 0 1 \n",
      "\n",
      "\n",
      "0 1 0 0 0 \n",
      "0 0 0 0 1 \n",
      "0 0 1 0 0 \n",
      "1 0 0 0 0 \n",
      "0 0 0 1 0 \n",
      "\n",
      "\n",
      "0 0 1 0 0 \n",
      "1 0 0 0 0 \n",
      "0 0 0 1 0 \n",
      "0 1 0 0 0 \n",
      "0 0 0 0 1 \n",
      "\n",
      "\n",
      "0 0 1 0 0 \n",
      "0 0 0 0 1 \n",
      "0 1 0 0 0 \n",
      "0 0 0 1 0 \n",
      "1 0 0 0 0 \n",
      "\n",
      "\n",
      "0 0 0 1 0 \n",
      "1 0 0 0 0 \n",
      "0 0 1 0 0 \n",
      "0 0 0 0 1 \n",
      "0 1 0 0 0 \n",
      "\n",
      "\n",
      "0 0 0 1 0 \n",
      "0 1 0 0 0 \n",
      "0 0 0 0 1 \n",
      "0 0 1 0 0 \n",
      "1 0 0 0 0 \n",
      "\n",
      "\n",
      "0 0 0 0 1 \n",
      "0 1 0 0 0 \n",
      "0 0 0 1 0 \n",
      "1 0 0 0 0 \n",
      "0 0 1 0 0 \n",
      "\n",
      "\n",
      "0 0 0 0 1 \n",
      "0 0 1 0 0 \n",
      "1 0 0 0 0 \n",
      "0 0 0 1 0 \n",
      "0 1 0 0 0 \n",
      "\n",
      "\n"
     ]
    }
   ],
   "source": [
    "n = int(input(\"请输入皇后数量：\"))\n",
    "\n",
    "if __name__ == \"__main__\":\n",
    "    # 初始化 res 和 row\n",
    "    res = [0] * n\n",
    "    row = 0\n",
    "\n",
    "    results = []\n",
    "    dfs(n, row, res, results)\n",
    "\n",
    "    for res in results:\n",
    "        draw_chessboard(n, res)\n",
    "        print('\\n')"
   ]
  }
 ],
 "metadata": {
  "kernelspec": {
   "display_name": "Python 3 (ipykernel)",
   "language": "python",
   "name": "python3"
  },
  "language_info": {
   "codemirror_mode": {
    "name": "ipython",
    "version": 3
   },
   "file_extension": ".py",
   "mimetype": "text/x-python",
   "name": "python",
   "nbconvert_exporter": "python",
   "pygments_lexer": "ipython3",
   "version": "3.11.5"
  }
 },
 "nbformat": 4,
 "nbformat_minor": 2
}
